{
 "cells": [
  {
   "cell_type": "markdown",
   "id": "d4e7bdc2",
   "metadata": {},
   "source": [
    "# =========================================================================================================================================\n",
    "# Notebook de Exploração - Airbnb Copacabana\n",
    "# Dataset: listing_mensal_curado.parquet\n",
    "# ========================================================================================================================================="
   ]
  },
  {
   "cell_type": "markdown",
   "id": "cb660e66",
   "metadata": {},
   "source": [
    "# 1️⃣ Importações "
   ]
  },
  {
   "cell_type": "code",
   "execution_count": 3,
   "id": "ca85cac5",
   "metadata": {},
   "outputs": [],
   "source": [
    "import pandas as pd\n",
    "import matplotlib.pyplot as plt\n",
    "import seaborn as sns"
   ]
  },
  {
   "cell_type": "code",
   "execution_count": 4,
   "id": "da317346",
   "metadata": {},
   "outputs": [],
   "source": [
    "sns.set(style=\"whitegrid\")\n",
    "plt.rcParams['figure.figsize'] = (12,6)"
   ]
  },
  {
   "cell_type": "markdown",
   "id": "d520d3a3",
   "metadata": {},
   "source": [
    "# 2️⃣ Carregar dataset curado"
   ]
  },
  {
   "cell_type": "code",
   "execution_count": null,
   "id": "b47b368f",
   "metadata": {},
   "outputs": [],
   "source": [
    "df = pd.read_parquet(\"../dados/processed/listing_mensal_curado.parquet\")\n",
    "df.head()"
   ]
  },
  {
   "cell_type": "markdown",
   "id": "144b3245",
   "metadata": {},
   "source": [
    "# 3️⃣ Estatísticas básicas"
   ]
  },
  {
   "cell_type": "code",
   "execution_count": null,
   "id": "a79b1240",
   "metadata": {},
   "outputs": [],
   "source": [
    "# Informações gerais\n",
    "print(\"Número de registros:\", len(df))\n",
    "print(\"Colunas:\", df.columns.tolist())\n",
    "print(\"Tipos de dados:\\n\", df.dtypes)\n",
    "\n",
    "# Estatísticas descritivas numéricas\n",
    "df.describe()"
   ]
  },
  {
   "cell_type": "markdown",
   "id": "734d9cae",
   "metadata": {},
   "source": [
    "# 4️⃣ Distribuição de preços"
   ]
  },
  {
   "cell_type": "code",
   "execution_count": null,
   "id": "14acfa8d",
   "metadata": {},
   "outputs": [],
   "source": [
    "# Histograma de preços\n",
    "sns.histplot(df['price'], bins=50, kde=True)\n",
    "plt.title(\"Distribuição de preços\")\n",
    "plt.xlabel(\"Preço (R$)\")\n",
    "plt.ylabel(\"Quantidade de anúncios\")\n",
    "plt.show()"
   ]
  },
  {
   "cell_type": "markdown",
   "id": "56c07360",
   "metadata": {},
   "source": [
    "# 5️⃣ Quartos por tipo"
   ]
  },
  {
   "cell_type": "code",
   "execution_count": null,
   "id": "26d0acde",
   "metadata": {},
   "outputs": [],
   "source": [
    "sns.countplot(data=df, x='room_type', order=df['room_type'].value_counts().index)\n",
    "plt.title(\"Distribuição de tipos de quarto\")\n",
    "plt.xlabel(\"Tipo de quarto\")\n",
    "plt.ylabel(\"Quantidade de anúncios\")\n",
    "plt.show()"
   ]
  },
  {
   "cell_type": "markdown",
   "id": "33b6a489",
   "metadata": {},
   "source": [
    "# 6️⃣ Avaliações por nota média"
   ]
  },
  {
   "cell_type": "code",
   "execution_count": null,
   "id": "3b22384f",
   "metadata": {},
   "outputs": [],
   "source": [
    "sns.histplot(df['review_scores_rating'].dropna(), bins=20, kde=True)\n",
    "plt.title(\"Distribuição das notas médias de avaliação\")\n",
    "plt.xlabel(\"Nota Média\")\n",
    "plt.ylabel(\"Número de anúncios\")\n",
    "plt.show()"
   ]
  },
  {
   "cell_type": "markdown",
   "id": "924790da",
   "metadata": {},
   "source": [
    "# 7️⃣ Preço por tipo de quarto"
   ]
  },
  {
   "cell_type": "code",
   "execution_count": null,
   "id": "519efcd5",
   "metadata": {},
   "outputs": [],
   "source": [
    "sns.boxplot(data=df, x='room_type', y='price')\n",
    "plt.title(\"Preço por tipo de quarto\")\n",
    "plt.ylabel(\"Preço(R$)\")\n",
    "plt.xlabel(\"Tipo de quarto\")\n",
    "plt.tlim(0, 2000)\n",
    "plt.show()"
   ]
  },
  {
   "cell_type": "markdown",
   "id": "43bf9c8a",
   "metadata": {},
   "source": [
    "# 8️⃣ Anúncios por bairro"
   ]
  },
  {
   "cell_type": "code",
   "execution_count": null,
   "id": "91468621",
   "metadata": {},
   "outputs": [],
   "source": [
    "top_bairros = df['neighbourhood_cleansed'].value_counts().nlargest(10)\n",
    "sns.barplot(x=top_bairros.values, y=top_bairros.index)\n",
    "plt.title(\"Top 10 bairros com mais anúncios\")\n",
    "plt.xlabel(\"Quantidade de anúncios\")\n",
    "plt.ylabel(\"Bairro\")\n",
    "plt.show()"
   ]
  },
  {
   "cell_type": "markdown",
   "id": "8cea3b78",
   "metadata": {},
   "source": [
    "# 9️⃣ Correlação entre avaliações e preço"
   ]
  },
  {
   "cell_type": "code",
   "execution_count": null,
   "id": "30e060f2",
   "metadata": {},
   "outputs": [],
   "source": [
    "sns.scatterplot(data=df, x='review_scores_rating', y='price')\n",
    "plt.title(\"Correlação entre nota média e preço\")\n",
    "plt.xlabel(\"Nota média\")\n",
    "plt.ylabel(\"Preço (R$)\")\n",
    "plt.ylim(0, 2000)\n",
    "plt.show()"
   ]
  },
  {
   "cell_type": "markdown",
   "id": "2c73ac95",
   "metadata": {},
   "source": [
    "# 1️⃣0️⃣ Insights rápidos (Markdown)\n",
    "* Maioira dos anúncios são <b>Entire home/apt.</b>\n",
    "* Preço médio gira em torno de valores típicos de Cobacabana, mas há <b> outliers altos. </b>\n",
    "* Os bairros com mais anúncios são: Copacabana, Ipanema, Botafogo, Leme ...\n",
    "* Existe <b> ligação fraca entre nota média e preço, </b> mas anúncios de alto preço tendem a ter melhores avaliações."
   ]
  },
  {
   "cell_type": "markdown",
   "id": "574201c1",
   "metadata": {},
   "source": []
  }
 ],
 "metadata": {
  "kernelspec": {
   "display_name": ".venv",
   "language": "python",
   "name": "python3"
  },
  "language_info": {
   "codemirror_mode": {
    "name": "ipython",
    "version": 3
   },
   "file_extension": ".py",
   "mimetype": "text/x-python",
   "name": "python",
   "nbconvert_exporter": "python",
   "pygments_lexer": "ipython3",
   "version": "3.13.7"
  }
 },
 "nbformat": 4,
 "nbformat_minor": 5
}
